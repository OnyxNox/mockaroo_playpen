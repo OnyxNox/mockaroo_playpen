{
 "cells": [
  {
   "cell_type": "markdown",
   "id": "281af6f7",
   "metadata": {},
   "source": [
    "## Cleaner Parameters Setup"
   ]
  },
  {
   "cell_type": "code",
   "execution_count": null,
   "id": "345d7975",
   "metadata": {},
   "outputs": [],
   "source": [
    "dbutils.widgets.removeAll()\n",
    "dbutils.widgets.dropdown(\"RESOURCE\", \"Volume\", [\"Catalog\", \"Schema\", \"Table\", \"Volume\"], \".Resource\")\n",
    "dbutils.widgets.text(\"CATALOG_NAME\", \"roo_bricks\", \"Catalog Name\")\n",
    "dbutils.widgets.text(\"SCHEMA_NAME\", \"\", \"Schema Name\")\n",
    "dbutils.widgets.text(\"TABLE_NAME\", \"\", \"Table Name\")\n",
    "dbutils.widgets.text(\"VOLUME_NAME\", \"\", \"Volume Name\")"
   ]
  },
  {
   "cell_type": "markdown",
   "id": "7710ff52",
   "metadata": {},
   "source": [
    "## Cleaner Runner"
   ]
  },
  {
   "cell_type": "code",
   "execution_count": null,
   "id": "fdd0a96d",
   "metadata": {},
   "outputs": [],
   "source": [
    "resource = dbutils.widgets.get(\"RESOURCE\")\n",
    "catalog_name = dbutils.widgets.get(\"CATALOG_NAME\")\n",
    "schema_name = dbutils.widgets.get(\"SCHEMA_NAME\")\n",
    "table_name = dbutils.widgets.get(\"TABLE_NAME\")\n",
    "volume_name = dbutils.widgets.get(\"VOLUME_NAME\")\n",
    "\n",
    "resource_name = None\n",
    "\n",
    "if resource == \"Catalog\" and catalog_name:\n",
    "    resource_name = catalog_name\n",
    "elif resource == \"Schema\" and catalog_name and schema_name:\n",
    "    resource_name = f\"{catalog_name}.{schema_name}\"\n",
    "elif resource == \"Table\" and catalog_name and schema_name and table_name:\n",
    "    resource_name = f\"{catalog_name}.{schema_name}.{table_name}\"\n",
    "elif resource == \"Volume\" and catalog_name and schema_name and volume_name:\n",
    "    resource_name = f\"{catalog_name}.{schema_name}.{volume_name}\"\n",
    "\n",
    "if resource_name:\n",
    "    confirmation = input(f\"⚠️ Are you sure you want to drop {resource}? Type 'yes' to confirm: \")\n",
    "    if confirmation.lower() != 'yes':\n",
    "        print(f\"❌ No query run. confirmation: '{confirmation}' != 'yes'\")\n",
    "        dbutils.notebook.exit('')\n",
    "\n",
    "    query = f\"DROP {resource.upper()} IF EXISTS {resource_name} CASCADE;\"\n",
    "    print(f\"🔎 query: {query}\")\n",
    "\n",
    "    _ = spark.sql(query)\n",
    "\n",
    "    print(f\"✅ Successfully Dropped '{resource_name}' {resource}!\")\n",
    "else:\n",
    "    print(f\"❌ No query run. Ensure appropriate {resource.lower()} details are defined.\")"
   ]
  }
 ],
 "metadata": {
  "language_info": {
   "name": "python"
  }
 },
 "nbformat": 4,
 "nbformat_minor": 5
}
