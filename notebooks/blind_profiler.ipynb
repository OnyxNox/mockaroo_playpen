{
 "cells": [
  {
   "cell_type": "markdown",
   "id": "7be41058",
   "metadata": {},
   "source": [
    "## Blind Profiler Parameters Setup"
   ]
  },
  {
   "cell_type": "code",
   "execution_count": null,
   "id": "b112c218",
   "metadata": {},
   "outputs": [],
   "source": [
    "from blind_profiler import BlindProfiler\n",
    "\n",
    "blind_profiler = BlindProfiler()\n",
    "blind_profiler.setup_widgets()"
   ]
  },
  {
   "cell_type": "markdown",
   "id": "8eb05ccd",
   "metadata": {},
   "source": [
    "## Blind Profiler Runner"
   ]
  },
  {
   "cell_type": "code",
   "execution_count": null,
   "id": "3b70b750",
   "metadata": {},
   "outputs": [],
   "source": [
    "blind_profiler.profile()"
   ]
  },
  {
   "cell_type": "markdown",
   "id": "944ca4d9",
   "metadata": {},
   "source": [
    "## Blind Profiler Results Explainer\n",
    "\n",
    "- **Table**: The name of the table being profiled\n",
    "    - Example: `customer_data` - identifies which table this profile row belongs to\n",
    "- **Column**: The name of the column within the table being analyzed\n",
    "    - Example: `age` - the specific column being profiled\n",
    "- **Min**: The minimum value found in the column\n",
    "    - Numeric example: `18` - youngest customer is 18 years old\n",
    "    - Date example: `2020-01-15T00:00:00` - earliest date record in the dataset\n",
    "- **Max**: The maximum value found in the column\n",
    "    - Numeric example: `89` - oldest customer is 89 years old\n",
    "    - Date example: `2024-12-31T23:59:59` - most recent date record in the dataset\n",
    "- **Mean**: The average value of the column\n",
    "    - Numeric example: `45.67` - average age is 45.67 years\n",
    "    - Date example: `2022-06-15T12:30:00` - average timestamp falls in mid-2022\n",
    "- **Variance**: The statistical variance of numeric values\n",
    "    - Numeric example: `123.45` - measures how spread out the ages are from the mean age of 45.67\n",
    "    - Date example: `N/A` - variance calculation not meaningful for dates\n",
    "- **StdDev**: The standard deviation of numeric values\n",
    "    - Numeric example: `11.11` - typical age varies by +/-11.11 years from the mean\n",
    "    - Date example: `N/A` - standard deviation not calculated for dates\n",
    "- **Mode**: The most frequently occurring value in the column\n",
    "    - Numeric example: `25` - age 25 appears more often than any other age\n",
    "    - Text example: `Premium` - \"Premium\" is the most common category value\n",
    "- **ModeFreq**: The number of times (frequency) the mode value appears in the dataset\n",
    "    - Example: `847` - the most common value (25) appears exactly 847 times out of all records\n",
    "- **NullCount**: The total number of null/missing values in the column\n",
    "    - Example: `23` - there are 23 records where this column has no data\n",
    "- **RecordCount**: The total number of records in the table\n",
    "    - Example: `1000` - the entire table contains 1,000 rows of data\n",
    "\n",
    "## Sample Output Row\n",
    "\n",
    "Table | Column | Min | Max | Mean | Variance | StdDev | Mode | ModeFreq | NullCount | NullCountPct | RecordCount\n",
    "------|--------|-----|-----|------|----------|--------|------|----------|-----------|--------------|------------\n",
    "customers | age | 18 | 89 | 45.67 | 123.45 | 11.11 | 25 | 847 | 23 | 2.30 | 1000"
   ]
  }
 ],
 "metadata": {
  "language_info": {
   "name": "python"
  }
 },
 "nbformat": 4,
 "nbformat_minor": 5
}
