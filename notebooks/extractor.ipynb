{
 "cells": [
  {
   "cell_type": "markdown",
   "id": "7573744a",
   "metadata": {},
   "source": [
    "## Mockaroo Connector Parameters Setup"
   ]
  },
  {
   "cell_type": "code",
   "execution_count": null,
   "id": "9d9653df",
   "metadata": {},
   "outputs": [],
   "source": [
    "from mockaroo_connector import MockarooConnector\n",
    "\n",
    "\n",
    "def main():\n",
    "    mockaroo_connector = MockarooConnector()\n",
    "    mockaroo_connector.setup_widgets()\n",
    "\n",
    "\n",
    "if __name__ == \"__main__\":\n",
    "    main()"
   ]
  },
  {
   "cell_type": "markdown",
   "id": "1f126707",
   "metadata": {},
   "source": [
    "## Mockaroo Connector Runner"
   ]
  },
  {
   "cell_type": "code",
   "execution_count": null,
   "id": "33198815",
   "metadata": {},
   "outputs": [],
   "source": [
    "from mockaroo_connector import MockarooConnector\n",
    "\n",
    "\n",
    "def main():\n",
    "    mockaroo_connector = MockarooConnector()\n",
    "    mockaroo_connector.setup_widgets()\n",
    "    mockaroo_connector.download()\n",
    "\n",
    "\n",
    "if __name__ == \"__main__\":\n",
    "    main()"
   ]
  }
 ],
 "metadata": {
  "kernelspec": {
   "display_name": "3.11.13",
   "language": "python",
   "name": "python3"
  },
  "language_info": {
   "codemirror_mode": {
    "name": "ipython",
    "version": 3
   },
   "file_extension": ".py",
   "mimetype": "text/x-python",
   "name": "python",
   "nbconvert_exporter": "python",
   "pygments_lexer": "ipython3",
   "version": "3.11.13"
  }
 },
 "nbformat": 4,
 "nbformat_minor": 5
}
