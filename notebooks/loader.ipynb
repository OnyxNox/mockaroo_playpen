{
 "cells": [
  {
   "cell_type": "markdown",
   "id": "7573744a",
   "metadata": {},
   "source": [
    "## Source Loader Parameters Setup"
   ]
  },
  {
   "cell_type": "code",
   "execution_count": null,
   "id": "9d9653df",
   "metadata": {},
   "outputs": [],
   "source": [
    "from source_loader import SourceLoader\n",
    "\n",
    "source_loader = SourceLoader()\n",
    "source_loader.setup_widgets()"
   ]
  },
  {
   "cell_type": "markdown",
   "id": "1f126707",
   "metadata": {},
   "source": [
    "## Source Loader Runner"
   ]
  },
  {
   "cell_type": "code",
   "execution_count": null,
   "id": "33198815",
   "metadata": {},
   "outputs": [],
   "source": [
    "source_loader.load()"
   ]
  }
 ],
 "metadata": {
  "kernelspec": {
   "display_name": "3.11.13",
   "language": "python",
   "name": "python3"
  },
  "language_info": {
   "codemirror_mode": {
    "name": "ipython",
    "version": 3
   },
   "file_extension": ".py",
   "mimetype": "text/x-python",
   "name": "python",
   "nbconvert_exporter": "python",
   "pygments_lexer": "ipython3",
   "version": "3.11.13"
  }
 },
 "nbformat": 4,
 "nbformat_minor": 5
}
